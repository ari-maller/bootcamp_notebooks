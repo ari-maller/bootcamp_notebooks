{
 "cells": [
  {
   "cell_type": "markdown",
   "id": "0dbf7a0d",
   "metadata": {},
   "source": [
    "# Basics of programming in Python"
   ]
  },
  {
   "cell_type": "markdown",
   "id": "b7fdd606",
   "metadata": {},
   "source": [
    "1. Variables \n",
    "2. Operators \n",
    "3. Logic\n",
    "4. Control Blocks\n",
    "5. Sequences (strings and lists)\n",
    "6. Loops\n",
    "7. Dictionaries\n",
    "8. Functions\n",
    "9. Classes"
   ]
  },
  {
   "cell_type": "markdown",
   "id": "fc085df6",
   "metadata": {},
   "source": [
    "### Variables"
   ]
  },
  {
   "cell_type": "code",
   "execution_count": 1,
   "id": "ea841aa7",
   "metadata": {},
   "outputs": [
    {
     "name": "stdout",
     "output_type": "stream",
     "text": [
      "<class 'bool'> <class 'int'> <class 'float'> <class 'complex'>\n"
     ]
    }
   ],
   "source": [
    "#in python variables are declared dynamically which means you just assign\n",
    "#them to a value with the = charachter and they will have that type \n",
    "v1 = True\n",
    "v2 = 2\n",
    "v3 = 4.5\n",
    "v4 = 4.5+6j #in Python the sqrt of -1 is called j not i\n",
    "print(type(v1),type(v2),type(v3),type(v4))"
   ]
  },
  {
   "cell_type": "code",
   "execution_count": 2,
   "id": "ed9702f5",
   "metadata": {},
   "outputs": [
    {
     "name": "stdout",
     "output_type": "stream",
     "text": [
      "1 2.0 (4.5+0j) True\n"
     ]
    }
   ],
   "source": [
    "#you can change type with the int(),float(),complex(),bool() functions (casting)\n",
    "print(int(v1),float(v2),complex(v3),bool(v4))"
   ]
  },
  {
   "cell_type": "code",
   "execution_count": 3,
   "id": "8222bafa",
   "metadata": {},
   "outputs": [
    {
     "name": "stdout",
     "output_type": "stream",
     "text": [
      "3.5 72\n"
     ]
    }
   ],
   "source": [
    "#if you reuse the same variable name for a new assignment,\n",
    "#the variable will just be replaced by the new value - THIS MAY BE AN ERROR\n",
    "a = 45\n",
    "b = 72\n",
    "a = 3.5\n",
    "print(a,b)"
   ]
  },
  {
   "cell_type": "code",
   "execution_count": 4,
   "id": "98af2beb",
   "metadata": {},
   "outputs": [],
   "source": [
    "#variable names must start with a letter, they can contain numbers and some\n",
    "#symbols. Upper and lower cases are treated as different variables. \n",
    "#Using full descriptive names makes your code easier to read \n",
    "number_of_students = 12\n",
    "SolarMass = 1.99e33  # e stands for *10^ like on a claculator\n",
    "distance_SN1987A = 51.4 #kpc\n",
    "\n"
   ]
  },
  {
   "cell_type": "markdown",
   "id": "56815152",
   "metadata": {},
   "source": [
    "### Operations"
   ]
  },
  {
   "cell_type": "raw",
   "id": "a50c62f0-089b-47b8-a56b-1ab2e8b10f85",
   "metadata": {},
   "source": [
    "Basic Arithmetic \n",
    "x+y  addition\n",
    "x-y    subtraction\n",
    "x*y   multiplication\n",
    "x/y    division\n",
    "x**y  exponentiation, raising x to the power y\n",
    "x//y  integer division, the number of times y goes into x no fraction\n",
    "x%y  modulus, the remainder when x is dived by y \n",
    "Parenthesis can be used and are very helpful for complex arithmetic"
   ]
  },
  {
   "cell_type": "code",
   "execution_count": 5,
   "id": "4a276468",
   "metadata": {},
   "outputs": [
    {
     "name": "stdout",
     "output_type": "stream",
     "text": [
      "8\n",
      "9000000000.0\n",
      "100\n",
      "4.0\n",
      "1000\n",
      "2\n",
      "3\n",
      "0.5625\n"
     ]
    }
   ],
   "source": [
    "print(3+5)\n",
    "print(1.e10-1.e9)\n",
    "print(25*4)\n",
    "print(100/25)\n",
    "print(10**3)\n",
    "print(19//8)\n",
    "print(19 % 8)\n",
    "print((1.e-2*50)**3/2+0.5)"
   ]
  },
  {
   "cell_type": "markdown",
   "id": "67c62a56",
   "metadata": {},
   "source": [
    "**Exercise 1**\n",
    "Use the quadratic equation ($-b \\pm \\sqrt{b^2 - 4ac}\\over 2a$) to solve $25x^2-35x-15=0$.\n",
    "Then solve the equation $5x^2+3x-90=0$."
   ]
  },
  {
   "cell_type": "markdown",
   "id": "83a6e281",
   "metadata": {},
   "source": [
    "### Logic"
   ]
  },
  {
   "cell_type": "raw",
   "id": "ab592d5a-377a-4880-b05a-ede0649bdfa1",
   "metadata": {},
   "source": [
    "Another thing we can do to variables are comparison operations, operations that result in a value of True or False. The comparison operations are \n",
    "x == y  #note that to test if 2 things are equal we use 2 equal signs\n",
    "x != y  #not equal\n",
    "x < y\n",
    "x <= y\n",
    "x > y\n",
    "x >= y\n",
    "\n",
    "The result of any of these operations will be either True or False, you can set a variable equal to the answer if you want to store the value.\n",
    "\n",
    "You can also do mutliple comparisons by using the logical operators;\n",
    "and\n",
    "or\n",
    "not"
   ]
  },
  {
   "cell_type": "code",
   "execution_count": 6,
   "id": "8eeca9c1",
   "metadata": {},
   "outputs": [
    {
     "name": "stdout",
     "output_type": "stream",
     "text": [
      "False\n",
      "True\n",
      "False\n",
      "True\n",
      "True\n",
      "True\n"
     ]
    }
   ],
   "source": [
    "x = 5\n",
    "y = 10\n",
    "print(x==y)\n",
    "print(x!=y)\n",
    "print(x > y)\n",
    "print(x < y)\n",
    "print(2*x==y and x < y)\n",
    "print(3*x > y and not x > y)"
   ]
  },
  {
   "cell_type": "markdown",
   "id": "61a04529",
   "metadata": {},
   "source": [
    "### Control Blocks"
   ]
  },
  {
   "cell_type": "markdown",
   "id": "04b12c9d",
   "metadata": {},
   "source": [
    "One of the main uses for logic is to do different things based on the results. A section of code that only executes under some condition is called a control block and is set by a colon followed by indenting.\n",
    "\n",
    "The most basic control statement is the if, else if, else statement that works like this."
   ]
  },
  {
   "cell_type": "code",
   "execution_count": 7,
   "id": "cb5d1612",
   "metadata": {},
   "outputs": [
    {
     "name": "stdout",
     "output_type": "stream",
     "text": [
      "x is odd\n"
     ]
    }
   ],
   "source": [
    "x = 5\n",
    "if x % 2 == 0:\n",
    "    print(\"x is even\")\n",
    "else:\n",
    "    print(\"x is odd\")"
   ]
  },
  {
   "cell_type": "code",
   "execution_count": 8,
   "id": "7d212428",
   "metadata": {},
   "outputs": [
    {
     "name": "stdout",
     "output_type": "stream",
     "text": [
      "x is not divisible by 2 or 3\n"
     ]
    }
   ],
   "source": [
    "x=7\n",
    "if x % 2 == 0:\n",
    "    print(\"x is divisible by 2\")\n",
    "elif x % 3 == 0: #else if\n",
    "    print(\"x is divisible by 3\")\n",
    "else:\n",
    "    print(\"x is not divisible by 2 or 3\")"
   ]
  },
  {
   "cell_type": "markdown",
   "id": "88f38f93",
   "metadata": {},
   "source": [
    "**Exercise 2** Write a program to test if a variable is positive or negative or zero."
   ]
  },
  {
   "cell_type": "markdown",
   "id": "6304e498",
   "metadata": {},
   "source": [
    "### Sequences"
   ]
  },
  {
   "cell_type": "markdown",
   "id": "a9faf0f5",
   "metadata": {},
   "source": [
    "Sometimes we would like to have a variable contain many values. Python has two main ways of doing this. The string which contains many characters and the list which can contain a sequence of anything.  With sequences we can access the individual elements using square brackets, []. "
   ]
  },
  {
   "cell_type": "code",
   "execution_count": 9,
   "id": "2a9b83ee",
   "metadata": {},
   "outputs": [
    {
     "name": "stdout",
     "output_type": "stream",
     "text": [
      "H o\n",
      "Night\n",
      "World\n",
      "Good Night \n",
      "11 11 <class 'str'> <class 'int'>\n"
     ]
    }
   ],
   "source": [
    "#A string is a sequence of characters\n",
    "words=\"Hello World\" #you can use double quotes\n",
    "more_words='Good Night World' #or single quotes to define a string\n",
    "number = '11' #numbers can be string, check your type\n",
    "print(words[0],words[4]) #the first element is 0\n",
    "print(more_words[5:10])  #a colon means fill in the numbers between\n",
    "print(words[6:]) #leaving blank will go to the end or from the begining\n",
    "print(more_words[:-5]) #you can also use negative numbers to count \n",
    "                       #back from the end\n",
    "print(number,int(number),type(number),type(int(number)))"
   ]
  },
  {
   "cell_type": "code",
   "execution_count": 10,
   "id": "92f3b9c5",
   "metadata": {},
   "outputs": [
    {
     "name": "stdout",
     "output_type": "stream",
     "text": [
      "beer\n",
      "[1, 2]\n",
      "['four', [0, 1]]\n"
     ]
    }
   ],
   "source": [
    "#a list is a sequence of anything \n",
    "shopping = ['eggs','beer','milk']\n",
    "print(shopping[1])\n",
    "numbers = [1,2,3,4,5]\n",
    "print(numbers[0:2])\n",
    "stuff = [1,2.e-2,'four',[0,1]] #a list can contain another list\n",
    "print(stuff[2:])"
   ]
  },
  {
   "cell_type": "markdown",
   "id": "e7d22845",
   "metadata": {},
   "source": [
    "### Loops"
   ]
  },
  {
   "cell_type": "markdown",
   "id": "639f410d",
   "metadata": {},
   "source": [
    "Computers are very good at doing the same thing over and over again. In coding this is often accomplished with loops. In python there are two main types of loops, a while loop and a for loop. The while loop keeps looping until some condition is met. The for loop goes over a sequence."
   ]
  },
  {
   "cell_type": "code",
   "execution_count": 11,
   "id": "4067b396",
   "metadata": {},
   "outputs": [
    {
     "name": "stdout",
     "output_type": "stream",
     "text": [
      "0\n",
      "1\n",
      "2\n",
      "3\n",
      "4\n"
     ]
    }
   ],
   "source": [
    "#example while loop\n",
    "n=0 #make sure the variable in your loop exists before the condition\n",
    "while n < 5:\n",
    "    print(n)\n",
    "    n=n+1   #and make sure you change the variable or else the loop will not end"
   ]
  },
  {
   "cell_type": "code",
   "execution_count": 12,
   "id": "2f1f43dd",
   "metadata": {},
   "outputs": [
    {
     "name": "stdout",
     "output_type": "stream",
     "text": [
      "1\n",
      "2\n",
      "3\n",
      "4\n",
      "5\n"
     ]
    }
   ],
   "source": [
    "#example for loop\n",
    "vals = [1,2,3,4,5]\n",
    "for v in vals: #the something in sequence will have the value of each element\n",
    "    print(v)"
   ]
  },
  {
   "cell_type": "code",
   "execution_count": 13,
   "id": "68103f18",
   "metadata": {},
   "outputs": [
    {
     "name": "stdout",
     "output_type": "stream",
     "text": [
      "0\n",
      "1\n",
      "4\n",
      "9\n",
      "16\n",
      "\n",
      "0 Bob\n",
      "1 Jim\n",
      "2 Sue\n",
      "3 Bey\n",
      "\n",
      "Bob C\n",
      "Jim B\n",
      "Sue A\n",
      "Bey B+\n"
     ]
    }
   ],
   "source": [
    "#we can create a sequence of integers to loop over if we need to\n",
    "for i in range(5):\n",
    "    print(i**2)\n",
    "    \n",
    "print()\n",
    "#we can also add integers to a sequence if we need to with enumerate\n",
    "names=['Bob','Jim','Sue','Bey']\n",
    "for i,name in enumerate(names):\n",
    "    print(i,name)\n",
    "\n",
    "print()\n",
    "#or combine two sequences of the same length\n",
    "grades = ['C','B','A','B+']\n",
    "for n,g in zip(names,grades):\n",
    "    print(n,g)"
   ]
  },
  {
   "cell_type": "code",
   "execution_count": 14,
   "id": "8ba936dc",
   "metadata": {},
   "outputs": [
    {
     "name": "stdout",
     "output_type": "stream",
     "text": [
      "[0, 1, 4, 9, 16]\n"
     ]
    }
   ],
   "source": [
    "#list comprehension is a way to do a loop in one line and return a list \n",
    "answer = [i**2 for i in range(5)]\n",
    "print(answer)"
   ]
  },
  {
   "cell_type": "markdown",
   "id": "be94488e",
   "metadata": {},
   "source": [
    "**Exercise 3** Write a loop that prints the odd numbers up to 20"
   ]
  },
  {
   "cell_type": "markdown",
   "id": "a03e04e7",
   "metadata": {},
   "source": [
    "### Dictionaries"
   ]
  },
  {
   "cell_type": "markdown",
   "id": "b8246862",
   "metadata": {},
   "source": [
    "A dictionary is a pairing between values and keys. You give the dictionary the key and it returns the value. This data type is not often used in beginning programming, but it can be very useful."
   ]
  },
  {
   "cell_type": "code",
   "execution_count": 15,
   "id": "1ce7d8e5",
   "metadata": {},
   "outputs": [
    {
     "name": "stdout",
     "output_type": "stream",
     "text": [
      "1\n",
      "4\n"
     ]
    }
   ],
   "source": [
    "#example dictionary \n",
    "astro_type={'star':1,'planet':2,'galaxy':3,'black hole':4}\n",
    "print(astro_type['star'])\n",
    "print(astro_type['black hole'])"
   ]
  },
  {
   "cell_type": "markdown",
   "id": "bb72ff78",
   "metadata": {},
   "source": [
    "### Functions"
   ]
  },
  {
   "cell_type": "markdown",
   "id": "a14c6b58",
   "metadata": {},
   "source": [
    "A fuction is some code that can operate on some inputs and can return some outputs. We have already used many functions; print(), range(), int(), type(), enumerate(). You'll notice all functions have parenthesis at the end in which you can pass variables to be used by the function. We will now define our own functions.  "
   ]
  },
  {
   "cell_type": "code",
   "execution_count": 16,
   "id": "e841186b",
   "metadata": {},
   "outputs": [
    {
     "name": "stdout",
     "output_type": "stream",
     "text": [
      "8 27\n"
     ]
    }
   ],
   "source": [
    "#an example function\n",
    "def cubed(x):\n",
    "    return x**3 #a return statement will return the value specified \n",
    "\n",
    "x=cubed(2)\n",
    "y=cubed(3)\n",
    "print(x,y)"
   ]
  },
  {
   "cell_type": "markdown",
   "id": "fd1e1de8",
   "metadata": {},
   "source": [
    "Functions have two main types of arguments, positional arguments and keyword arguements. As the names imply, positional arguments are set by position, while keyword arguments are set by keyword. Also, you must have the same number of positional arguments as defined in the function, but keyword arguments can be omitted."
   ]
  },
  {
   "cell_type": "code",
   "execution_count": 17,
   "id": "0b1acc46",
   "metadata": {},
   "outputs": [
    {
     "name": "stdout",
     "output_type": "stream",
     "text": [
      "1.7320508075688772\n",
      "1.7320508075688772\n"
     ]
    },
    {
     "ename": "TypeError",
     "evalue": "length() missing 1 required positional argument: 'z'",
     "output_type": "error",
     "traceback": [
      "\u001b[0;31m---------------------------------------------------------------------------\u001b[0m",
      "\u001b[0;31mTypeError\u001b[0m                                 Traceback (most recent call last)",
      "Cell \u001b[0;32mIn[17], line 11\u001b[0m\n\u001b[1;32m      9\u001b[0m \u001b[38;5;28mprint\u001b[39m(length(\u001b[38;5;241m1\u001b[39m,\u001b[38;5;241m1\u001b[39m,\u001b[38;5;241m1\u001b[39m))\n\u001b[1;32m     10\u001b[0m \u001b[38;5;28mprint\u001b[39m(length(\u001b[38;5;241m100\u001b[39m,\u001b[38;5;241m100\u001b[39m,\u001b[38;5;241m100\u001b[39m,cm\u001b[38;5;241m=\u001b[39m\u001b[38;5;28;01mTrue\u001b[39;00m))\n\u001b[0;32m---> 11\u001b[0m \u001b[38;5;28mprint\u001b[39m(\u001b[43mlength\u001b[49m\u001b[43m(\u001b[49m\u001b[38;5;241;43m1\u001b[39;49m\u001b[43m,\u001b[49m\u001b[38;5;241;43m10\u001b[39;49m\u001b[43m)\u001b[49m)\n",
      "\u001b[0;31mTypeError\u001b[0m: length() missing 1 required positional argument: 'z'"
     ]
    }
   ],
   "source": [
    "#example function with arguments\n",
    "def length(x,y,z,cm=False):\n",
    "    if cm:\n",
    "        x=0.01*x\n",
    "        y=0.01*y\n",
    "        z=0.01*z\n",
    "    return (x**2+y**2+z**2)**0.5\n",
    "\n",
    "print(length(1,1,1))\n",
    "print(length(100,100,100,cm=True))\n",
    "print(length(1,10))"
   ]
  },
  {
   "cell_type": "markdown",
   "id": "61c65b7a",
   "metadata": {},
   "source": [
    "**Exercise 4** Write a function that given the height of a ball determines the time it takes to hit the ground. $h = 1/2 g t^2$. Allow g to be a keyword so you can use this code on other planets."
   ]
  },
  {
   "cell_type": "markdown",
   "id": "2425f32a",
   "metadata": {},
   "source": [
    "**Exercise 5** Write a function that prints up to the nth Catalan number. The Catalan numbers are defined by <br>\n",
    "$C_0$ = 1 <br>\n",
    "$C_n = (4n+2)/(n+2) C_{n-1}$"
   ]
  },
  {
   "cell_type": "code",
   "execution_count": 19,
   "id": "4b0f26aa-4f55-4bd5-a773-4533af897a5e",
   "metadata": {},
   "outputs": [
    {
     "name": "stdout",
     "output_type": "stream",
     "text": [
      "1\n",
      "2.0\n",
      "5.0\n",
      "14.0\n",
      "42.0\n",
      "132.0\n",
      "429.0\n"
     ]
    }
   ],
   "source": [
    "nstop = 7\n",
    "n=0\n",
    "while n < nstop:\n",
    "    if n==0:\n",
    "        C = 1\n",
    "    else:\n",
    "        C = (4*n+2)/(n+2)*C\n",
    "    n=n+1\n",
    "    print(C)\n",
    "\n",
    "    "
   ]
  },
  {
   "cell_type": "code",
   "execution_count": null,
   "id": "bfac1e75",
   "metadata": {},
   "outputs": [],
   "source": [
    "def catalan(n):\n",
    "    C=1\n",
    "    for i in range(1,n):\n",
    "        C = (4*i+2)/(i+2)*C"
   ]
  },
  {
   "cell_type": "markdown",
   "id": "d6f5e155",
   "metadata": {},
   "source": [
    "### Classes"
   ]
  },
  {
   "cell_type": "markdown",
   "id": "1324ff0c",
   "metadata": {},
   "source": [
    "Everything in python is actually a class. But you shouldn't worry too much about classes or object oriented programming when you are just getting started. However, understanding a bit about classes can help you understand how to use python. The main idea of object oriented programming is that data and functions should be combined together. A function that is in a class is called a method. Since everything in python is a class, each data type we have seen is a class. We can see the methods of the class with the dir() function."
   ]
  },
  {
   "cell_type": "code",
   "execution_count": 20,
   "id": "35122a43",
   "metadata": {},
   "outputs": [
    {
     "data": {
      "text/plain": [
       "['__abs__',\n",
       " '__add__',\n",
       " '__bool__',\n",
       " '__ceil__',\n",
       " '__class__',\n",
       " '__delattr__',\n",
       " '__dir__',\n",
       " '__divmod__',\n",
       " '__doc__',\n",
       " '__eq__',\n",
       " '__float__',\n",
       " '__floor__',\n",
       " '__floordiv__',\n",
       " '__format__',\n",
       " '__ge__',\n",
       " '__getattribute__',\n",
       " '__getformat__',\n",
       " '__getnewargs__',\n",
       " '__gt__',\n",
       " '__hash__',\n",
       " '__init__',\n",
       " '__init_subclass__',\n",
       " '__int__',\n",
       " '__le__',\n",
       " '__lt__',\n",
       " '__mod__',\n",
       " '__mul__',\n",
       " '__ne__',\n",
       " '__neg__',\n",
       " '__new__',\n",
       " '__pos__',\n",
       " '__pow__',\n",
       " '__radd__',\n",
       " '__rdivmod__',\n",
       " '__reduce__',\n",
       " '__reduce_ex__',\n",
       " '__repr__',\n",
       " '__rfloordiv__',\n",
       " '__rmod__',\n",
       " '__rmul__',\n",
       " '__round__',\n",
       " '__rpow__',\n",
       " '__rsub__',\n",
       " '__rtruediv__',\n",
       " '__setattr__',\n",
       " '__setformat__',\n",
       " '__sizeof__',\n",
       " '__str__',\n",
       " '__sub__',\n",
       " '__subclasshook__',\n",
       " '__truediv__',\n",
       " '__trunc__',\n",
       " 'as_integer_ratio',\n",
       " 'conjugate',\n",
       " 'fromhex',\n",
       " 'hex',\n",
       " 'imag',\n",
       " 'is_integer',\n",
       " 'real']"
      ]
     },
     "execution_count": 20,
     "metadata": {},
     "output_type": "execute_result"
    }
   ],
   "source": [
    "x=6.5\n",
    "dir(x) "
   ]
  },
  {
   "cell_type": "markdown",
   "id": "97f854fe",
   "metadata": {},
   "source": [
    "methods with the $__name__$ format are internal and not meant to be used. So we see for floats we have methods like as_integer_ratio() and is_integer().  We can use these methods on our float "
   ]
  },
  {
   "cell_type": "code",
   "execution_count": 21,
   "id": "866894fe",
   "metadata": {},
   "outputs": [
    {
     "name": "stdout",
     "output_type": "stream",
     "text": [
      "(13, 2)\n",
      "False\n"
     ]
    }
   ],
   "source": [
    "print(x.as_integer_ratio())\n",
    "print(x.is_integer())"
   ]
  },
  {
   "cell_type": "markdown",
   "id": "f3726ed9",
   "metadata": {},
   "source": [
    "Most of the methods on variables are not that interesting, but for list and strings they can be very useful. For lists we have methods like, append(), insert(), pop() and remove() which allow us to modify our list."
   ]
  },
  {
   "cell_type": "code",
   "execution_count": 22,
   "id": "d9070442",
   "metadata": {},
   "outputs": [
    {
     "name": "stdout",
     "output_type": "stream",
     "text": [
      "[1, 2, 3, 1]\n",
      "[1, 'new', 2, 3, 1]\n",
      "2\n",
      "[1, 'new', 3, 1]\n",
      "[1, 'new', 1]\n"
     ]
    }
   ],
   "source": [
    "x=[] #create and empty list\n",
    "#append adds a value to your list\n",
    "x.append(1)\n",
    "x.append(2)\n",
    "x.append(3)\n",
    "x.append(1)\n",
    "print(x)\n",
    "#insert places a value into the list\n",
    "x.insert(1,'new')\n",
    "print(x)\n",
    "# pop gets the value of an element and removes it from the list\n",
    "print(x.pop(2))\n",
    "print(x)\n",
    "#while remove just removes it\n",
    "x.remove(3)\n",
    "print(x)"
   ]
  },
  {
   "cell_type": "markdown",
   "id": "0c6be723",
   "metadata": {},
   "source": [
    "Strings also have a bunch of useful methods attached to them like find(), rfind() and split()."
   ]
  },
  {
   "cell_type": "code",
   "execution_count": 23,
   "id": "6bd3ff03",
   "metadata": {},
   "outputs": [
    {
     "name": "stdout",
     "output_type": "stream",
     "text": [
      "World\n",
      "['Hello', 'World']\n",
      "hELLO wORLD\n"
     ]
    }
   ],
   "source": [
    "x='Hello World'\n",
    "a=x.find('W')\n",
    "b=x.rfind('d')+1\n",
    "print(x[a:b])\n",
    "print(x.split())\n",
    "print(x.swapcase())"
   ]
  },
  {
   "cell_type": "markdown",
   "id": "94254588",
   "metadata": {},
   "source": [
    "Writing a class isn't all that complicated. One just creates a class and then defines your methods inside of that class. There is the special name *self* that refers to an instance of the class and some special methods like $__init__$ which runs when you create an instance of the class. In general, 2 underscores before and after a name in python are used for special types of function of variable name being used internally. Here is an example of how to code a class."
   ]
  },
  {
   "cell_type": "code",
   "execution_count": 25,
   "id": "7f617002",
   "metadata": {},
   "outputs": [],
   "source": [
    "class Student:\n",
    "    def __init__(self, name, grade, major): #__init__ is a special name \n",
    "        #that will be run when creating an instance of the class\n",
    "        self.name = name   \n",
    "        self.grade = grade  #self is the instance of the class\n",
    "        self.major = major\n",
    "\n",
    "    def passing(self):\n",
    "        if self.grade=='A' or self.grade=='B' or self.grade=='C':\n",
    "            return True\n",
    "        elif self.grade=='D' and self.major=='English':\n",
    "            return True\n",
    "        else:\n",
    "            return False\n"
   ]
  },
  {
   "cell_type": "code",
   "execution_count": 26,
   "id": "77a57eb5",
   "metadata": {},
   "outputs": [
    {
     "name": "stdout",
     "output_type": "stream",
     "text": [
      "Jill A\n",
      "True False\n",
      "False\n"
     ]
    }
   ],
   "source": [
    "student1=Student('Jill','A','English')\n",
    "student2=Student('Beth','F','Biology')\n",
    "print(student1.name,student1.grade)\n",
    "print(student1.passing(),student2.passing())\n",
    "student1.grade='F'\n",
    "print(student1.passing())"
   ]
  },
  {
   "cell_type": "code",
   "execution_count": 27,
   "id": "e8772ee2",
   "metadata": {},
   "outputs": [
    {
     "data": {
      "text/plain": [
       "['__class__',\n",
       " '__delattr__',\n",
       " '__dict__',\n",
       " '__dir__',\n",
       " '__doc__',\n",
       " '__eq__',\n",
       " '__format__',\n",
       " '__ge__',\n",
       " '__getattribute__',\n",
       " '__gt__',\n",
       " '__hash__',\n",
       " '__init__',\n",
       " '__init_subclass__',\n",
       " '__le__',\n",
       " '__lt__',\n",
       " '__module__',\n",
       " '__ne__',\n",
       " '__new__',\n",
       " '__reduce__',\n",
       " '__reduce_ex__',\n",
       " '__repr__',\n",
       " '__setattr__',\n",
       " '__sizeof__',\n",
       " '__str__',\n",
       " '__subclasshook__',\n",
       " '__weakref__',\n",
       " 'grade',\n",
       " 'major',\n",
       " 'name',\n",
       " 'passing']"
      ]
     },
     "execution_count": 27,
     "metadata": {},
     "output_type": "execute_result"
    }
   ],
   "source": [
    "dir(student1)"
   ]
  },
  {
   "cell_type": "markdown",
   "id": "bf1b649c-21bc-48d6-8448-99d70abf4744",
   "metadata": {},
   "source": [
    "### Python packages \n",
    "\n"
   ]
  },
  {
   "cell_type": "markdown",
   "id": "e8d86aa4-83be-43f1-ac66-362bbb14e99b",
   "metadata": {},
   "source": [
    "A lot of the power of python comes not from the language itself but from then many thousands of packages people have created and made available. An anaconda distribution of python comes with hundreds of commonly used packages for scientific work. You may need to install other packages. This can be done in a different ways depending on the package. The easiest way is to continue using condas package managment system. This is done on the terminal, not in python. But I will demonstrate how it works here using the ! which runs code on a command line."
   ]
  },
  {
   "cell_type": "code",
   "execution_count": 4,
   "id": "b4881f36-cec4-4af0-a837-63ba3d9920a6",
   "metadata": {},
   "outputs": [
    {
     "name": "stdout",
     "output_type": "stream",
     "text": [
      "# packages in environment at /Users/ari/miniforge3:\n",
      "#\n",
      "# Name                    Version                   Build  Channel\n",
      "numpy                     1.26.4          py310hd45542a_0    conda-forge\n"
     ]
    }
   ],
   "source": [
    "!conda list numpy !"
   ]
  },
  {
   "cell_type": "code",
   "execution_count": 5,
   "id": "97f38cf4-7460-43ff-b206-62ebcb4018f4",
   "metadata": {},
   "outputs": [
    {
     "name": "stdout",
     "output_type": "stream",
     "text": [
      "# packages in environment at /Users/ari/miniforge3:\n",
      "#\n",
      "# Name                    Version                   Build  Channel\n",
      "matplotlib-base           3.7.1           py310h78c5c2f_0    conda-forge\n",
      "matplotlib-inline         0.1.6              pyhd8ed1ab_0    conda-forge\n"
     ]
    }
   ],
   "source": [
    "!conda list matplotlib"
   ]
  },
  {
   "cell_type": "markdown",
   "id": "f9a4c73c-272f-41f1-8a03-54a8e50958f7",
   "metadata": {},
   "source": [
    "if you didn't have one of these you could install it with conda install numpy, etc.\n",
    "\n",
    "Once you have the packages to use them in your python code you must import the packages. There are multiple ways to do this, but I strongly advise you to use the last two."
   ]
  },
  {
   "cell_type": "code",
   "execution_count": 6,
   "id": "f5306b3b-3f16-4b7d-a33d-b43080766eac",
   "metadata": {},
   "outputs": [],
   "source": [
    "from numpy import sqrt\n",
    "from numpy import *  #never do this one\n",
    "import numpy\n",
    "import numpy as np\n"
   ]
  },
  {
   "cell_type": "code",
   "execution_count": 9,
   "id": "9771a9c6-5457-4a72-a745-131199658aec",
   "metadata": {},
   "outputs": [
    {
     "name": "stdout",
     "output_type": "stream",
     "text": [
      "1.4142135623730951\n",
      "-2.185039863261519\n",
      "2.0\n",
      "2.0\n"
     ]
    }
   ],
   "source": [
    "print(sqrt(2))\n",
    "print(tan(2))\n",
    "print(numpy.sqrt(4))\n",
    "print(np.sqrt(4))"
   ]
  },
  {
   "cell_type": "code",
   "execution_count": 10,
   "id": "06affb6f-5a7c-40ee-81f2-8145df17e183",
   "metadata": {},
   "outputs": [
    {
     "name": "stdout",
     "output_type": "stream",
     "text": [
      "/Users/ari/Documents/python/bootcamp_notebooks\n"
     ]
    }
   ],
   "source": [
    "!pwd"
   ]
  },
  {
   "cell_type": "code",
   "execution_count": null,
   "id": "0a5f93dc-1019-470f-a061-98329d6d6d0e",
   "metadata": {},
   "outputs": [],
   "source": [
    "v,d = np.loadtxt(filename,usecols=(1,2),unpack=True)"
   ]
  }
 ],
 "metadata": {
  "kernelspec": {
   "display_name": "Python 3 (ipykernel)",
   "language": "python",
   "name": "python3"
  },
  "language_info": {
   "codemirror_mode": {
    "name": "ipython",
    "version": 3
   },
   "file_extension": ".py",
   "mimetype": "text/x-python",
   "name": "python",
   "nbconvert_exporter": "python",
   "pygments_lexer": "ipython3",
   "version": "3.10.6"
  }
 },
 "nbformat": 4,
 "nbformat_minor": 5
}
