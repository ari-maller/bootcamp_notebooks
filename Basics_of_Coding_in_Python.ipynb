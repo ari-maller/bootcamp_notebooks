{
 "cells": [
  {
   "cell_type": "markdown",
   "id": "0dbf7a0d",
   "metadata": {},
   "source": [
    "# Basics of programming in Python"
   ]
  },
  {
   "cell_type": "markdown",
   "id": "b7fdd606",
   "metadata": {},
   "source": [
    "1. Variables \n",
    "2. Operators \n",
    "3. Logic\n",
    "4. Control Blocks\n",
    "5. Sequences (strings and lists)\n",
    "6. Loops\n",
    "7. Dictionaries\n",
    "8. Functions\n",
    "9. Classes"
   ]
  },
  {
   "cell_type": "markdown",
   "id": "fc085df6",
   "metadata": {},
   "source": [
    "### Variables"
   ]
  },
  {
   "cell_type": "code",
   "execution_count": null,
   "id": "ea841aa7",
   "metadata": {},
   "outputs": [],
   "source": [
    "#in python variables are declared dynamically which means you just assign\n",
    "#them to a value with the = charachter and they will have the type \n",
    "v1 = True\n",
    "v2 = 2\n",
    "v3 = 4.5\n",
    "v4 = 4.5+6j #in Python the sqrt of -1 is called j not i\n",
    "print(type(v1),type(v2),type(v3),type(v4))"
   ]
  },
  {
   "cell_type": "code",
   "execution_count": null,
   "id": "ed9702f5",
   "metadata": {},
   "outputs": [],
   "source": [
    "#you can change type with the int(),float(),complex(),bool() functions\n",
    "print(int(v1),float(v2),complex(v3),bool(v4))"
   ]
  },
  {
   "cell_type": "code",
   "execution_count": null,
   "id": "8222bafa",
   "metadata": {},
   "outputs": [],
   "source": [
    "#if you reuse the same variable name for a new assignment,\n",
    "#the variable will just be replaced by the new value - THIS MAY BE AN ERROR\n",
    "a = 45\n",
    "b = 72\n",
    "a = 3.5\n",
    "print(a,b)"
   ]
  },
  {
   "cell_type": "code",
   "execution_count": null,
   "id": "98af2beb",
   "metadata": {},
   "outputs": [],
   "source": [
    "#variable names must start with a letter, they can contain numbers and some\n",
    "#symbols. Upper and lower cases are treated as different variables. \n",
    "#Using full descriptive names makes your code easier to read \n",
    "number_of_students = 12\n",
    "SolarMass = 1.99e33  # e stands for *10^ like on a claculator\n",
    "distance_SN1987A = 51.4 #kpc\n",
    "\n"
   ]
  },
  {
   "cell_type": "markdown",
   "id": "56815152",
   "metadata": {},
   "source": [
    "### Operations"
   ]
  },
  {
   "cell_type": "raw",
   "id": "876ea4a4",
   "metadata": {},
   "source": [
    "Basic Arithmetic \n",
    "x+y  addition\n",
    "x-y    subtraction\n",
    "x*y   multiplication\n",
    "x/y    division\n",
    "x**y  exponentiation, raising x to the power y\n",
    "x//y  integer division, the number of times y goes into x no fraction\n",
    "x%y  modulus, the remainder when x is dived by y \n",
    "Parenthesis can be used and are very helpful for complex arithmetic"
   ]
  },
  {
   "cell_type": "code",
   "execution_count": null,
   "id": "4a276468",
   "metadata": {},
   "outputs": [],
   "source": [
    "print(3+5)\n",
    "print(1.e10-1.e9)\n",
    "print(25*4)\n",
    "print(100/25)\n",
    "print(10**3)\n",
    "print(19//8)\n",
    "print(19 % 8)\n",
    "print((1.e-2*50)**3/2+0.5)"
   ]
  },
  {
   "cell_type": "markdown",
   "id": "67c62a56",
   "metadata": {},
   "source": [
    "**Exercise 1**\n",
    "Use the quadratic equation ($-b \\pm \\sqrt{b^2 - 4ac}\\over 2a$) to solve $25x^2-35x-15=0$.\n",
    "Then solve the equation $5x^2+3x-90=0$."
   ]
  },
  {
   "cell_type": "markdown",
   "id": "83a6e281",
   "metadata": {},
   "source": [
    "### Logic"
   ]
  },
  {
   "cell_type": "markdown",
   "id": "f757e3c3",
   "metadata": {},
   "source": [
    "Another thing we can do to variables are comparison operations, operations that result in a value of True or False. The comparison operations are \n",
    "x == y  #note that to test if 2 things are equal we use 2 equal signs\n",
    "x != y  #not equal\n",
    "x < y\n",
    "x <= y\n",
    "x > y\n",
    "x >= y\n",
    "\n",
    "The result of any of these operations will be either True or False, you can set a variable equal to the answer if you want to store the value.\n",
    "\n",
    "You can also do mutliple comparisons by using the logical operators,\n",
    "and\n",
    "or\n",
    "not"
   ]
  },
  {
   "cell_type": "code",
   "execution_count": null,
   "id": "8eeca9c1",
   "metadata": {},
   "outputs": [],
   "source": [
    "x = 5\n",
    "y = 10\n",
    "print(x==y)\n",
    "print(x!=y)\n",
    "print(x > y)\n",
    "print(x < y)\n",
    "print(2*x==y and x < y)\n",
    "print(3*x > y and not x > y)"
   ]
  },
  {
   "cell_type": "markdown",
   "id": "61a04529",
   "metadata": {},
   "source": [
    "### Control Blocks"
   ]
  },
  {
   "cell_type": "markdown",
   "id": "04b12c9d",
   "metadata": {},
   "source": [
    "One of the main uses for logic is to do different things based on the results. A section of code that only executes under some condition is called a control block and is set by a colon followed by indenting.\n",
    "\n",
    "The most basic control statement is the if, else if, else statement that works like this."
   ]
  },
  {
   "cell_type": "code",
   "execution_count": null,
   "id": "cb5d1612",
   "metadata": {},
   "outputs": [],
   "source": [
    "x = 5\n",
    "if x % 2 == 0:\n",
    "    print(\"x is even\")\n",
    "else:\n",
    "    print(\"x is odd\")"
   ]
  },
  {
   "cell_type": "code",
   "execution_count": null,
   "id": "7d212428",
   "metadata": {},
   "outputs": [],
   "source": [
    "x=7\n",
    "if x % 2 == 0:\n",
    "    print(\"x is divisible by 2\")\n",
    "elif x % 3 == 0: #else if\n",
    "    print(\"x is divisible by 3\")\n",
    "else:\n",
    "    print(\"x is not divisible by 2 or 3\")"
   ]
  },
  {
   "cell_type": "markdown",
   "id": "88f38f93",
   "metadata": {},
   "source": [
    "**Exercise 2** Write a program to test if a variable is positive or negative or zero."
   ]
  },
  {
   "cell_type": "markdown",
   "id": "6304e498",
   "metadata": {},
   "source": [
    "### Sequences"
   ]
  },
  {
   "cell_type": "markdown",
   "id": "a9faf0f5",
   "metadata": {},
   "source": [
    "Sometimes we would like to have a variable contain many values. Python has two main ways of doing this. The string which contains many characters and the list which can contain a sequence of anything.  With sequences we can access the individual elements using square brackets, []. "
   ]
  },
  {
   "cell_type": "code",
   "execution_count": null,
   "id": "2a9b83ee",
   "metadata": {},
   "outputs": [],
   "source": [
    "#A string is a sequence of characters\n",
    "words=\"Hello World\" #you can use double quotes\n",
    "more_words='Good Night World' #or single quotes to define a string\n",
    "number = '11' #numbers can be string, check your type\n",
    "print(words[0],words[4]) #the first element is 0\n",
    "print(more_words[5:10])  #a colon means fill in the numbers between\n",
    "print(words[6:]) #leaving blank will go to the end or from the begining\n",
    "print(more_words[:-5]) #you can also use negative numbers to count \n",
    "                       #back from the end\n",
    "print(type(int(number)))"
   ]
  },
  {
   "cell_type": "code",
   "execution_count": null,
   "id": "92f3b9c5",
   "metadata": {},
   "outputs": [],
   "source": [
    "#a list is a sequence of anything \n",
    "shopping = ['eggs','beer','milk']\n",
    "print(shopping[1])\n",
    "numbers = [1,2,3,4,5]\n",
    "print(numbers[0:2])\n",
    "stuff = [1,2.e-2,'four',[0,1]] #a list can contain another list\n",
    "print(stuff[2:])"
   ]
  },
  {
   "cell_type": "markdown",
   "id": "e7d22845",
   "metadata": {},
   "source": [
    "### Loops"
   ]
  },
  {
   "cell_type": "markdown",
   "id": "639f410d",
   "metadata": {},
   "source": [
    "Computers are very good at doing the same thing over and over again. In coding this is often accomplished with loops. In python there are two main types of loops, a while loop and a for loop. The while loop keeps looping until some condition is met. The for loop goes over a sequence."
   ]
  },
  {
   "cell_type": "code",
   "execution_count": null,
   "id": "4067b396",
   "metadata": {},
   "outputs": [],
   "source": [
    "#example while loop\n",
    "n=0 #make sure the variable in your loop exists before the condition\n",
    "while n < 5:\n",
    "    print(n)\n",
    "    n=n+1   #and make sure you change the variable or else the loop will not end"
   ]
  },
  {
   "cell_type": "code",
   "execution_count": null,
   "id": "2f1f43dd",
   "metadata": {},
   "outputs": [],
   "source": [
    "#example for loop\n",
    "vals = [1,2,3,4,5]\n",
    "for v in vals: #the something in sequence will have the value of each element\n",
    "    print(v)"
   ]
  },
  {
   "cell_type": "code",
   "execution_count": null,
   "id": "68103f18",
   "metadata": {},
   "outputs": [],
   "source": [
    "#we can create a sequence of integers to loop over if we need to\n",
    "for i in range(5):\n",
    "    print(i**2)\n",
    "    \n",
    "print()\n",
    "#we can also add integers to a sequence if we need to with enumerate\n",
    "names=['Bob','Jim','Sue','Bey']\n",
    "for i,name in enumerate(names):\n",
    "    print(i,name)\n",
    "\n",
    "print()\n",
    "#or combine two sequences of the same length\n",
    "grades = ['C','B','A','B+']\n",
    "for n,g in zip(names,grades):\n",
    "    print(n,g)"
   ]
  },
  {
   "cell_type": "code",
   "execution_count": null,
   "id": "8ba936dc",
   "metadata": {},
   "outputs": [],
   "source": [
    "#list comprehension is a way to do a loop in one line and return a list \n",
    "answer = [i**2 for i in range(5)]\n",
    "print(answer)"
   ]
  },
  {
   "cell_type": "markdown",
   "id": "be94488e",
   "metadata": {},
   "source": [
    "**Exercise 3** Write a loop that prints the odd numbers up to 20"
   ]
  },
  {
   "cell_type": "markdown",
   "id": "a03e04e7",
   "metadata": {},
   "source": [
    "### Dictionaries"
   ]
  },
  {
   "cell_type": "markdown",
   "id": "b8246862",
   "metadata": {},
   "source": [
    "A dictionary is a pairing between values and keys. You give the dictionary the key and it returns the value. This data type is not often used in beginning programming, but it can be very useful."
   ]
  },
  {
   "cell_type": "code",
   "execution_count": null,
   "id": "1ce7d8e5",
   "metadata": {},
   "outputs": [],
   "source": [
    "#example dictionary \n",
    "astro_type={'star':1,'planet':2,'galaxy':3,'black hole':4}\n",
    "print(astro_type['star'])\n",
    "print(astro_type['black hole'])"
   ]
  },
  {
   "cell_type": "markdown",
   "id": "bb72ff78",
   "metadata": {},
   "source": [
    "### Functions"
   ]
  },
  {
   "cell_type": "markdown",
   "id": "a14c6b58",
   "metadata": {},
   "source": [
    "A fuction is some code that can operate on some inputs and can return some outputs. We have already used many functions; print(), range(), int(), type(), enumerate(). You'll notice all functions have parenthesis at the end in which you can pass variables to be used by the function. We will now define our own functions.  "
   ]
  },
  {
   "cell_type": "code",
   "execution_count": null,
   "id": "e841186b",
   "metadata": {},
   "outputs": [],
   "source": [
    "#an example function\n",
    "def cubed(x):\n",
    "    return x**3 #a return statement will return the value specified \n",
    "\n",
    "x=cubed(2)\n",
    "y=cubed(3)\n",
    "print(x,y)"
   ]
  },
  {
   "cell_type": "markdown",
   "id": "fd1e1de8",
   "metadata": {},
   "source": [
    "Functions have two main types of arguments, positional arguments and keyword arguements. As the names imply, positional arguments are set by position, while keyword arguments are set by keyword. Also, you must have the same number of positional arguments as defined in the function, but keyword arguments can be omitted."
   ]
  },
  {
   "cell_type": "code",
   "execution_count": null,
   "id": "0b1acc46",
   "metadata": {},
   "outputs": [],
   "source": [
    "#example function with arguments\n",
    "def length(x,y,z,cm=False):\n",
    "    if cm:\n",
    "        x=0.01*x\n",
    "        y=0.01*y\n",
    "        z=0.01*z\n",
    "    return (x**2+y**2+z**2)**0.5\n",
    "\n",
    "print(length(1,1,1))\n",
    "print(length(100,100,100,cm=True))\n",
    "print(length(1,10))"
   ]
  },
  {
   "cell_type": "markdown",
   "id": "61c65b7a",
   "metadata": {},
   "source": [
    "**Exercise 4** Write a function that given the height of a ball determines the time it takes to hit the ground. $h = 1/2 g t^2$. Allow g to be a keyword so you can use this code on other planets."
   ]
  },
  {
   "cell_type": "markdown",
   "id": "2425f32a",
   "metadata": {},
   "source": [
    "**Exercise 5** Write a function that prints up to the nth Catalan number. The Catalan numbers are defined by <br>\n",
    "$C_0$ = 1 <br>\n",
    "$C_n = (4n+2)/(n+2) C_{n-1}$"
   ]
  },
  {
   "cell_type": "markdown",
   "id": "d6f5e155",
   "metadata": {},
   "source": [
    "### Classes"
   ]
  },
  {
   "cell_type": "markdown",
   "id": "1324ff0c",
   "metadata": {},
   "source": [
    "Everything in python is actually a class. But you shouldn't worry too much about classes or object oriented programming when you are just getting started. However, understanding a bit about classes can help you understand how to use python. The main idea of object oriented programming is that data and functions should be combined together. A function that is in a class is called a method. Since everything in python is a class, each data type we have seen is a class. We can see the methods of the class with the dir() function."
   ]
  },
  {
   "cell_type": "code",
   "execution_count": null,
   "id": "35122a43",
   "metadata": {},
   "outputs": [],
   "source": [
    "x=6.5\n",
    "dir(x) "
   ]
  },
  {
   "cell_type": "markdown",
   "id": "97f854fe",
   "metadata": {},
   "source": [
    "methods with the __method__ format are internal and not meant to be used. So we see for floats we have methods like as_integer_ratio() and is_integer().  We can use these methods on our float "
   ]
  },
  {
   "cell_type": "code",
   "execution_count": null,
   "id": "866894fe",
   "metadata": {},
   "outputs": [],
   "source": [
    "print(x.as_integer_ratio())\n",
    "print(x.is_integer())"
   ]
  },
  {
   "cell_type": "markdown",
   "id": "f3726ed9",
   "metadata": {},
   "source": [
    "Most of the methods on variables are not that interesting, but for list and strings they can be very useful. For lists we have methods like, append(), insert(), pop() and remove() which allow us to modify our list."
   ]
  },
  {
   "cell_type": "code",
   "execution_count": null,
   "id": "d9070442",
   "metadata": {},
   "outputs": [],
   "source": [
    "x=[] #create and empty list\n",
    "#append adds a value to your list\n",
    "x.append(1)\n",
    "x.append(2)\n",
    "x.append(3)\n",
    "x.append(1)\n",
    "print(x)\n",
    "#insert places a value into the list\n",
    "x.insert(1,'new')\n",
    "print(x)\n",
    "# pop gets the value of an element and removes it from the list\n",
    "print(x.pop(2))\n",
    "print(x)\n",
    "#while remove just removes it\n",
    "x.remove(3)\n",
    "print(x)"
   ]
  },
  {
   "cell_type": "markdown",
   "id": "0c6be723",
   "metadata": {},
   "source": [
    "Strings also have a bunch of useful methods attached to them like find(), rfind() and split()."
   ]
  },
  {
   "cell_type": "code",
   "execution_count": null,
   "id": "6bd3ff03",
   "metadata": {},
   "outputs": [],
   "source": [
    "x='Hello World'\n",
    "a=x.find('W')\n",
    "b=x.rfind('d')+1\n",
    "print(x[a:b])\n",
    "print(x.split())\n",
    "print(x.swapcase())"
   ]
  },
  {
   "cell_type": "markdown",
   "id": "94254588",
   "metadata": {},
   "source": [
    "Writing a class isn't all that complicated. One just creates a class and then defines your methods inside of that class. There is the special name *self* that refers to an instance of the class and some special methods like $__init__$ which runs when you create an instance of the class. In general, 2 underscores before and after a name in python are used for special types of function of variable name being used internally. Here is an example of how to code a class."
   ]
  },
  {
   "cell_type": "code",
   "execution_count": 19,
   "id": "7f617002",
   "metadata": {},
   "outputs": [],
   "source": [
    "class Student:\n",
    "    def __init__(self, name, grade, major):\n",
    "        self.name = name\n",
    "        self.grade = grade\n",
    "        self.major = major\n",
    "\n",
    "    def passing(self):\n",
    "        if self.grade=='A' or self.grade=='B' or self.grade=='C':\n",
    "            return True\n",
    "        elif self.grade=='D' and self.major=='English':\n",
    "            return True\n",
    "        else:\n",
    "            return False\n"
   ]
  },
  {
   "cell_type": "code",
   "execution_count": 22,
   "id": "77a57eb5",
   "metadata": {},
   "outputs": [
    {
     "name": "stdout",
     "output_type": "stream",
     "text": [
      "Jill A\n",
      "True False\n",
      "False\n"
     ]
    }
   ],
   "source": [
    "student1=Student('Jill','A','English')\n",
    "student2=Student('Beth','F','Biology')\n",
    "print(student1.name,student1.grade)\n",
    "print(student1.passing(),student2.passing())\n",
    "student1.grade='F'\n",
    "print(student1.passing())"
   ]
  },
  {
   "cell_type": "code",
   "execution_count": null,
   "id": "5d86ace7",
   "metadata": {},
   "outputs": [],
   "source": []
  }
 ],
 "metadata": {
  "kernelspec": {
   "display_name": "Python 3 (ipykernel)",
   "language": "python",
   "name": "python3"
  },
  "language_info": {
   "codemirror_mode": {
    "name": "ipython",
    "version": 3
   },
   "file_extension": ".py",
   "mimetype": "text/x-python",
   "name": "python",
   "nbconvert_exporter": "python",
   "pygments_lexer": "ipython3",
   "version": "3.7.3"
  }
 },
 "nbformat": 4,
 "nbformat_minor": 5
}
