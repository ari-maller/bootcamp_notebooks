{
 "cells": [
  {
   "cell_type": "markdown",
   "id": "d34f52ee",
   "metadata": {},
   "source": [
    "### Numpy\n",
    "\n",
    "For scientific use one of the most important packages in python is the **numpy** (numerical python) package. This package creates a new data type called an array that is a sequence that behaves mathematically like a vector. Math operations generally work on the arrays element by element. Here we cover:<br>\n",
    "1. array creation\n",
    "2. multidimensional arrays\n",
    "3. indexing and slicing\n",
    "3. reading/writing data\n",
    "\n",
    "On import numpy is often given the nickname np. "
   ]
  },
  {
   "cell_type": "code",
   "execution_count": 2,
   "id": "6b7eab28",
   "metadata": {},
   "outputs": [],
   "source": [
    "import numpy as np"
   ]
  },
  {
   "cell_type": "markdown",
   "id": "0d26b9ea",
   "metadata": {},
   "source": [
    "**1) array creation**<br>\n",
    "There are many ways to create arrays. Lists can be converted to array, one can create arrays where are elements have the same value, or one can create arrays that increase value by a fixed amount (these are very useful for plotting and other calculations). You can specify the datatype of the elements with the dytpe key word."
   ]
  },
  {
   "cell_type": "code",
   "execution_count": 3,
   "id": "9090e585",
   "metadata": {},
   "outputs": [
    {
     "name": "stdout",
     "output_type": "stream",
     "text": [
      "[1 2 3 4 5] [ True  True  True  True  True] [0. 0. 0. 0. 0.] [3 3 3 3 3] [0 1 2 3 4] [0.   0.25 0.5  0.75 1.  ]\n"
     ]
    }
   ],
   "source": [
    "#array creation (1D)\n",
    "a = np.array([1,2,3,4,5]) #create from list\n",
    "ones = np.ones(5, dtype=np.bool) #fill with values\n",
    "z = np.zeros(5, dtype=np.float) #dtype can be used to set the data type\n",
    "t = np.full(5,3) #an array of five 3s\n",
    "x = np.arange(0,5,1) #step by 1\n",
    "y = np.linspace(0,1,5) #make 5 elements\n",
    "print(a,ones,z,t,x,y)\n"
   ]
  },
  {
   "cell_type": "code",
   "execution_count": 4,
   "id": "ec5a43c3",
   "metadata": {},
   "outputs": [
    {
     "name": "stdout",
     "output_type": "stream",
     "text": [
      "[ 6  7  8  9 10]\n",
      "[ 2  4  6  8 10]\n",
      "[ 1  4  9 16 25]\n",
      "[1.         1.41421356 1.73205081 2.         2.23606798]\n",
      "[ 0.54030231 -0.41614684 -0.9899925  -0.65364362  0.28366219]\n",
      "[1.   2.75 4.5  6.25 8.  ]\n"
     ]
    }
   ],
   "source": [
    "#math on arrays works on each element\n",
    "print(a+5)\n",
    "print(2*a)\n",
    "print(a**2)\n",
    "#and numpy has functions that will also work in this way\n",
    "print(np.sqrt(a))\n",
    "print(np.cos(a))\n",
    "print(a+t*y) #multiple equal length arrays act element by element "
   ]
  },
  {
   "cell_type": "markdown",
   "id": "cb39e74a",
   "metadata": {},
   "source": [
    "**2) multidimensional arrays**<br>\n",
    "One can also create 2, 3 or any dimension arrays. This can be from a list of lists, but it is usually easier to create them using the filling functions, but to pass a list as the shape instead of just an int."
   ]
  },
  {
   "cell_type": "code",
   "execution_count": 5,
   "id": "840e193a",
   "metadata": {},
   "outputs": [
    {
     "name": "stdout",
     "output_type": "stream",
     "text": [
      "[[ True  True]\n",
      " [ True  True]]\n",
      "[[[0. 0.]\n",
      "  [0. 0.]]\n",
      "\n",
      " [[0. 0.]\n",
      "  [0. 0.]]]\n",
      "[[3 3]\n",
      " [3 3]\n",
      " [3 3]\n",
      " [3 3]\n",
      " [3 3]]\n"
     ]
    }
   ],
   "source": [
    "ones = np.ones([2,2], dtype=np.bool) #the shape can be a list\n",
    "z = np.zeros((2,2,2), dtype=np.float) #it can also be a tuple\n",
    "t = np.full([5,2],3) #an array of five 3s\n",
    "print(ones)\n",
    "print(z)\n",
    "print(t)"
   ]
  },
  {
   "cell_type": "markdown",
   "id": "40978ab8",
   "metadata": {},
   "source": [
    "You can get information about at array with size, ndim and shape. You can rearrange the array into a new shape with the *reshape()* method or flatten it with *flatten()*."
   ]
  },
  {
   "cell_type": "code",
   "execution_count": 6,
   "id": "c512f471",
   "metadata": {},
   "outputs": [
    {
     "name": "stdout",
     "output_type": "stream",
     "text": [
      "10 2 (5, 2)\n",
      "(2, 2, 2)\n",
      "(4, 2)\n",
      "[0. 0. 0. 0. 0. 0. 0. 0.]\n"
     ]
    }
   ],
   "source": [
    "print(t.size,t.ndim,t.shape)\n",
    "print(z.shape)\n",
    "new_z=z.reshape([4,2]) #pass a list or tuple for the shape\n",
    "print(new_z.shape)\n",
    "print(z.flatten())"
   ]
  },
  {
   "cell_type": "markdown",
   "id": "0b826692",
   "metadata": {},
   "source": [
    "***3) indexing and slicing*** Just like other sequences the elements in arrays can be accessed by indexing and slicing. For 2+ dimensional arrays the index is a corresponding set of integers. Using colons of the form i:j:k creates a slice from i to j in steps of k. If k is omitted it steps by 1."
   ]
  },
  {
   "cell_type": "code",
   "execution_count": 7,
   "id": "9c794026",
   "metadata": {},
   "outputs": [
    {
     "name": "stdout",
     "output_type": "stream",
     "text": [
      "4 0 4\n",
      "4\n",
      "[0 1 2 3 4] [0 2 4]\n"
     ]
    }
   ],
   "source": [
    "a = np.arange(0,9,1,dtype=np.int)\n",
    "b = a.reshape((3,3))\n",
    "print(a[4],b[0,0],b[1,1])\n",
    "print(b[1][1]) #you can also access like this, but it is ineffecient\n",
    "print(a[0:5],a[:5:2])"
   ]
  },
  {
   "cell_type": "markdown",
   "id": "31d27a3c",
   "metadata": {},
   "source": [
    "A very powerful tool is to slice with a Truth array. This will only return the values that are True according to some condition"
   ]
  },
  {
   "cell_type": "code",
   "execution_count": 9,
   "id": "d1567ecd",
   "metadata": {},
   "outputs": [
    {
     "name": "stdout",
     "output_type": "stream",
     "text": [
      "[]\n",
      "[0 2 4 6 8]\n"
     ]
    },
    {
     "ename": "ValueError",
     "evalue": "invalid number of arguments",
     "output_type": "error",
     "traceback": [
      "\u001b[0;31m---------------------------------------------------------------------------\u001b[0m",
      "\u001b[0;31mValueError\u001b[0m                                Traceback (most recent call last)",
      "\u001b[0;32m/var/folders/wx/67jn6fnn29v_bm_gt2qdfs140000gn/T/ipykernel_72703/2753927910.py\u001b[0m in \u001b[0;36m<module>\u001b[0;34m\u001b[0m\n\u001b[1;32m      1\u001b[0m \u001b[0mprint\u001b[0m\u001b[0;34m(\u001b[0m\u001b[0ma\u001b[0m\u001b[0;34m[\u001b[0m\u001b[0ma\u001b[0m \u001b[0;34m>\u001b[0m \u001b[0;36m8\u001b[0m\u001b[0;34m]\u001b[0m\u001b[0;34m)\u001b[0m \u001b[0;31m#only elements above 5\u001b[0m\u001b[0;34m\u001b[0m\u001b[0;34m\u001b[0m\u001b[0m\n\u001b[1;32m      2\u001b[0m \u001b[0mprint\u001b[0m\u001b[0;34m(\u001b[0m\u001b[0ma\u001b[0m\u001b[0;34m[\u001b[0m\u001b[0ma\u001b[0m \u001b[0;34m%\u001b[0m \u001b[0;36m2\u001b[0m \u001b[0;34m==\u001b[0m \u001b[0;36m0\u001b[0m\u001b[0;34m]\u001b[0m\u001b[0;34m)\u001b[0m \u001b[0;31m#only even elements\u001b[0m\u001b[0;34m\u001b[0m\u001b[0;34m\u001b[0m\u001b[0m\n\u001b[0;32m----> 3\u001b[0;31m \u001b[0mnp\u001b[0m\u001b[0;34m.\u001b[0m\u001b[0mlogical_and\u001b[0m\u001b[0;34m(\u001b[0m\u001b[0;34m)\u001b[0m\u001b[0;34m\u001b[0m\u001b[0;34m\u001b[0m\u001b[0m\n\u001b[0m\u001b[1;32m      4\u001b[0m \u001b[0mnp\u001b[0m\u001b[0;34m.\u001b[0m\u001b[0mlogical_or\u001b[0m\u001b[0;34m(\u001b[0m\u001b[0;34m)\u001b[0m\u001b[0;34m\u001b[0m\u001b[0;34m\u001b[0m\u001b[0m\n",
      "\u001b[0;31mValueError\u001b[0m: invalid number of arguments"
     ]
    }
   ],
   "source": [
    "print(a[a > 8]) #only elements above 5\n",
    "print(a[a % 2 == 0]) #only even elements \n",
    "np.logical_and()\n",
    "np.logical_or()"
   ]
  },
  {
   "cell_type": "markdown",
   "id": "10ed1c11",
   "metadata": {},
   "source": [
    "**4) reading and writing data** You can read and write data from numpy using the loadtxt() and savetxt() functions"
   ]
  },
  {
   "cell_type": "code",
   "execution_count": 10,
   "id": "41337be3",
   "metadata": {},
   "outputs": [
    {
     "name": "stdout",
     "output_type": "stream",
     "text": [
      "(24, 3)\n",
      "(24,) 1 24\n"
     ]
    }
   ],
   "source": [
    "data = np.loadtxt('hubble1929_table1.dat',comments='#')\n",
    "print(data.shape)\n",
    "obj,dis,vel = np.loadtxt('hubble1929_table1.dat',unpack=True)\n",
    "print(obj.shape,dis.ndim,vel.size)\n",
    "np.savetxt('tmp.dat',data,fmt='%.3e') #fmt formats here 3 decimal places\n"
   ]
  },
  {
   "cell_type": "markdown",
   "id": "6d5ad92a",
   "metadata": {},
   "source": [
    "### Matplotlib\n",
    "Equally important for scientific analysis with python is a means to visualize one's data. There are many packages for visualization. One place to start is with matplotlib. \n",
    "\n",
    "One important thing to remember is that in the notebook if the last line makes a plot it will be shown in the notebook, just like a variable. But for normal python the plt.show() function must be run for interactive plotting. \n",
    "Many of the plotting functions in matplotlib are found in the pyplot subpackage which is often given the nickname plt."
   ]
  },
  {
   "cell_type": "code",
   "execution_count": 11,
   "id": "ff4cf6b6",
   "metadata": {},
   "outputs": [],
   "source": [
    "import matplotlib.pyplot as plt"
   ]
  },
  {
   "cell_type": "code",
   "execution_count": 14,
   "id": "db61e924",
   "metadata": {},
   "outputs": [
    {
     "data": {
      "image/png": "[encoded data removed]",
      "text/plain": [
       "<Figure size 432x288 with 1 Axes>"
      ]
     },
     "metadata": {
      "needs_background": "light"
     },
     "output_type": "display_data"
    }
   ],
   "source": [
    "x = np.linspace(0,2*np.pi,100)\n",
    "y = np.sin(x)\n",
    "plt.plot(x,y,color='green',linestyle='dashed') \n",
    "plt.show()"
   ]
  },
  {
   "cell_type": "code",
   "execution_count": 15,
   "id": "28e74159",
   "metadata": {},
   "outputs": [
    {
     "data": {
      "text/plain": [
       "(-2.0, 2.0)"
      ]
     },
     "execution_count": 15,
     "metadata": {},
     "output_type": "execute_result"
    },
    {
     "data": {
      "image/png": "[encoded data removed]",
      "text/plain": [
       "<Figure size 432x288 with 1 Axes>"
      ]
     },
     "metadata": {
      "needs_background": "light"
     },
     "output_type": "display_data"
    }
   ],
   "source": [
    "y2=np.cos(x)\n",
    "y3=np.tan(x)\n",
    "plt.plot(x,y2,label='cos') #labels can be used to make a legend\n",
    "plt.plot(x,y3,label='tan')\n",
    "plt.legend()\n",
    "plt.xlabel('degrees')\n",
    "plt.title('Trig Functions')\n",
    "plt.ylim([-2,2])"
   ]
  },
  {
   "cell_type": "markdown",
   "id": "0909b200",
   "metadata": {},
   "source": [
    "The plots above are plots of functions which is rarely what we have when doing scientific research. More often we have data which are discrete points and have a less clear relationship. In this case we should use a scatter plot to display them."
   ]
  },
  {
   "cell_type": "code",
   "execution_count": 16,
   "id": "95f336bc",
   "metadata": {},
   "outputs": [],
   "source": [
    "#create some random data using numpy's random\n",
    "x = np.random.random(30)\n",
    "y = 0.5*x +0.1*np.random.random(30)"
   ]
  },
  {
   "cell_type": "code",
   "execution_count": 17,
   "id": "a4f0254b",
   "metadata": {},
   "outputs": [
    {
     "data": {
      "image/png": "[encoded data removed]",
      "text/plain": [
       "<Figure size 432x288 with 1 Axes>"
      ]
     },
     "metadata": {
      "needs_background": "light"
     },
     "output_type": "display_data"
    }
   ],
   "source": [
    "plt.scatter(x,y,marker='v',c='red')\n",
    "plt.show()"
   ]
  },
  {
   "cell_type": "code",
   "execution_count": 18,
   "id": "4e972b7f",
   "metadata": {},
   "outputs": [
    {
     "data": {
      "image/png": "[encoded data removed]",
      "text/plain": [
       "<Figure size 432x288 with 1 Axes>"
      ]
     },
     "metadata": {
      "needs_background": "light"
     },
     "output_type": "display_data"
    }
   ],
   "source": [
    "z = 0.1*x + 0.25+0.05*np.random.random(30)\n",
    "plt.scatter(x,y,marker='+',c='green',label='y',s=50)\n",
    "plt.scatter(x,z,marker='o',c='blue',label='z')\n",
    "plt.legend()\n",
    "plt.show()"
   ]
  },
  {
   "cell_type": "markdown",
   "id": "e27e1da7",
   "metadata": {},
   "source": [
    "#### Fitting functions to data\n",
    "One thing you may want to do is fit a function (like a line) to your data. There are 2 simple ways to do this. Numpy's polyfit() will fit a polynomial using least-squares, while curve_fit() from the scipy package will fit any function using a user specified function."
   ]
  },
  {
   "cell_type": "code",
   "execution_count": 21,
   "id": "a3ad0b60",
   "metadata": {},
   "outputs": [
    {
     "data": {
      "image/png": "[encoded data removed]",
      "text/plain": [
       "<Figure size 432x288 with 1 Axes>"
      ]
     },
     "metadata": {
      "needs_background": "light"
     },
     "output_type": "display_data"
    }
   ],
   "source": [
    "p1 = np.polyfit(x,y,1) #1 is the degree of the polynomial so a line (x^1)\n",
    "p2 = np.polyfit(x,z,2)\n",
    "xvals=np.linspace(0,1,10)\n",
    "plt.plot(xvals,p1[1]+p1[0]*xvals,color='green',linestyle='dashed')\n",
    "plt.plot(xvals,p2[2]+p2[1]*xvals+p2[0]*xvals**2,color='blue',linestyle='dotted')\n",
    "plt.scatter(x,y,marker='+',c='green',label='y',s=50)\n",
    "plt.scatter(x,z,marker='o',c='blue',label='z')\n",
    "plt.legend()\n",
    "plt.show()"
   ]
  },
  {
   "cell_type": "code",
   "execution_count": 22,
   "id": "477112ef",
   "metadata": {},
   "outputs": [
    {
     "data": {
      "image/png": "[encoded data removed]",
      "text/plain": [
       "<Figure size 432x288 with 1 Axes>"
      ]
     },
     "metadata": {
      "needs_background": "light"
     },
     "output_type": "display_data"
    }
   ],
   "source": [
    "import scipy.optimize as opt\n",
    "\n",
    "def line(x,m,b):\n",
    "    return m*x+b\n",
    "\n",
    "popt,_ = opt.curve_fit(line,x,y) \n",
    "plt.plot(xvals,line(xvals,popt[0],popt[1]),color='green',linestyle='dashed')\n",
    "plt.scatter(x,y,marker='+',c='green',label='y')\n",
    "plt.show()\n"
   ]
  },
  {
   "cell_type": "markdown",
   "id": "402c16ce",
   "metadata": {},
   "source": [
    "#### Figure and Axis \n",
    "The examples of plotting we have just done can give a misleading sense of how matplotlib works, because we have been avoiding the figure and axis classes. However, these objects are the basis of plotting in matplotlib and for more advance plots you will need to understand them. The figure is just the everything in the plotting window while the axis refers to the plotting axis and everything that goes with them. This becomes important when you want to have more than one axis on a figure. This is easiest to do with the subplots() function though there are many ways to create figures and axis. "
   ]
  },
  {
   "cell_type": "code",
   "execution_count": 23,
   "id": "603ab60d",
   "metadata": {},
   "outputs": [
    {
     "data": {
      "image/png": "[encoded data removed]",
      "text/plain": [
       "<Figure size 432x288 with 2 Axes>"
      ]
     },
     "metadata": {
      "needs_background": "light"
     },
     "output_type": "display_data"
    }
   ],
   "source": [
    "fig,axes=plt.subplots(nrows=1,ncols=2)\n",
    "axes[0].scatter(x,y)\n",
    "axes[1].scatter(x,z)\n",
    "plt.show() #and we get 2 plots on the same figure"
   ]
  },
  {
   "cell_type": "markdown",
   "id": "ff36a7d8",
   "metadata": {},
   "source": [
    "We see that scatter() like almost all of the functions we have previously used is really a method associated with an axis. We can add legends, set limits, and add labels just like we've done above for each axis. \n",
    "\n",
    "You'll notice in the above plot that the y-axis range on the 2 axes is very different. We can force it to be the same with the shareY keyword."
   ]
  },
  {
   "cell_type": "code",
   "execution_count": 24,
   "id": "c1c03f27",
   "metadata": {},
   "outputs": [
    {
     "data": {
      "image/png": "[encoded data removed]",
      "text/plain": [
       "<Figure size 432x288 with 2 Axes>"
      ]
     },
     "metadata": {
      "needs_background": "light"
     },
     "output_type": "display_data"
    }
   ],
   "source": [
    "fig,axis=plt.subplots(nrows=1,ncols=2,sharey=True,figsize=(6,4))\n",
    "plt.subplots_adjust(hspace=0.0,wspace=0.0) #make no space between plots\n",
    "axis[0].scatter(x,y)\n",
    "axis[0].set_xlabel('x-stuff1')\n",
    "axis[0].set_xlim([0.,0.95]) #if it goes to 1 the tickmarks overlap\n",
    "axis[1].scatter(x,z)\n",
    "axis[1].set_xlabel('x-stuff2')\n",
    "plt.show()"
   ]
  },
  {
   "cell_type": "markdown",
   "id": "fe7c538b",
   "metadata": {},
   "source": [
    "### Exercise 1\n",
    "Read in the data from the hubble1929_table1.dat file and plot velocity versus distance. Fit a line to the points. In a 2nd plot on the same figure plot the residuals (the difference between the points and the fit line) as a function of distance."
   ]
  },
  {
   "cell_type": "markdown",
   "id": "e2e71a07",
   "metadata": {},
   "source": [
    "Another useful type of plot is the histogram. This can be made direclty in matplotlib, or one can do the calculation in numpy and then plot the results with matplotlib."
   ]
  },
  {
   "cell_type": "code",
   "execution_count": 25,
   "id": "081d07e9",
   "metadata": {},
   "outputs": [
    {
     "data": {
      "image/png": "[encoded data removed]",
      "text/plain": [
       "<Figure size 432x288 with 1 Axes>"
      ]
     },
     "metadata": {
      "needs_background": "light"
     },
     "output_type": "display_data"
    }
   ],
   "source": [
    "h,xmids,_ = plt.hist(x)"
   ]
  },
  {
   "cell_type": "code",
   "execution_count": 28,
   "id": "a3fa665d",
   "metadata": {},
   "outputs": [
    {
     "data": {
      "image/png": "[encoded data removed]",
      "text/plain": [
       "<Figure size 432x288 with 1 Axes>"
      ]
     },
     "metadata": {
      "needs_background": "light"
     },
     "output_type": "display_data"
    }
   ],
   "source": [
    "h2,xedges = np.histogram(x, bins=10, range=[0,1])\n",
    "xmids=0.5*(xedges[0:-1]+xedges[1:])\n",
    "plt.bar(xmids,h2,width=0.1)\n",
    "plt.xlabel(r'$\\beta^2$')\n",
    "plt.show()"
   ]
  },
  {
   "cell_type": "code",
   "execution_count": null,
   "id": "35034c8e",
   "metadata": {},
   "outputs": [],
   "source": []
  }
 ],
 "metadata": {
  "kernelspec": {
   "display_name": "Python 3 (ipykernel)",
   "language": "python",
   "name": "python3"
  },
  "language_info": {
   "codemirror_mode": {
    "name": "ipython",
    "version": 3
   },
   "file_extension": ".py",
   "mimetype": "text/x-python",
   "name": "python",
   "nbconvert_exporter": "python",
   "pygments_lexer": "ipython3",
   "version": "3.7.3"
  }
 },
 "nbformat": 4,
 "nbformat_minor": 5
}
