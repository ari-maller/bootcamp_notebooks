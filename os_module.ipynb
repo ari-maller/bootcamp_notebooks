{
 "cells": [
  {
   "cell_type": "code",
   "execution_count": 1,
   "id": "e2d825d9",
   "metadata": {},
   "outputs": [],
   "source": [
    "import os"
   ]
  },
  {
   "cell_type": "code",
   "execution_count": 2,
   "id": "bdd6fec7",
   "metadata": {},
   "outputs": [
    {
     "data": {
      "text/plain": [
       "'/Users/ari'"
      ]
     },
     "execution_count": 2,
     "metadata": {},
     "output_type": "execute_result"
    }
   ],
   "source": [
    "os.getcwd() #pwd in unix, cd in windows"
   ]
  },
  {
   "cell_type": "code",
   "execution_count": 3,
   "id": "166b2f03",
   "metadata": {},
   "outputs": [
    {
     "data": {
      "text/plain": [
       "['.vscode-cpptools',\n",
       " '.config',\n",
       " 'Music',\n",
       " 'insurance_L1407.pdf',\n",
       " '.condarc',\n",
       " 'Dropbox (Personal)',\n",
       " '.DS_Store',\n",
       " '.zshrc~',\n",
       " '.CFUserTextEncoding',\n",
       " '.hgignore_global',\n",
       " '.wget-hsts',\n",
       " 'DropboxCT',\n",
       " '.zshrc',\n",
       " '.bash_profile~',\n",
       " '.local',\n",
       " 'Creative Cloud Files',\n",
       " 'Projects',\n",
       " 'Pictures',\n",
       " '.pylint.d',\n",
       " '.InstallAnywhere',\n",
       " '.atom',\n",
       " '.tmp.txt.swp',\n",
       " 'Code',\n",
       " 'Dropbox (City Tech)',\n",
       " '.zsh_history',\n",
       " '.ipython',\n",
       " 'Desktop',\n",
       " 'Library',\n",
       " '.matplotlib',\n",
       " '.lesshst',\n",
       " '.globusonline',\n",
       " 'test.py',\n",
       " '.oracle_jre_usage',\n",
       " 'seaborn-data',\n",
       " '.emacs.d',\n",
       " 'os module.ipynb',\n",
       " 'animation.mp4',\n",
       " '.gitignore_global',\n",
       " '.bash_sessions',\n",
       " 'tmp.txtes',\n",
       " 'Google Drive',\n",
       " 'example.html',\n",
       " 'astr670_hydro_notes.pdf',\n",
       " 'Public',\n",
       " '.dropbox',\n",
       " '.anaconda',\n",
       " '.ssh',\n",
       " 'Movies',\n",
       " 'Applications',\n",
       " '.anaconda_backup',\n",
       " 'Dropbox',\n",
       " '.Trash',\n",
       " '.zoomus',\n",
       " '.gitflow_export',\n",
       " '.ipynb_checkpoints',\n",
       " '.jupyter',\n",
       " 'Documents',\n",
       " 'My First Nootebook.ipynb',\n",
       " 'pandas and seaborn.ipynb',\n",
       " 'ctp',\n",
       " 'plotly_and_pandas.ipynb',\n",
       " '.vscode',\n",
       " '.bash_profile',\n",
       " 'cool_figure.pdf',\n",
       " 'parameter_fit.ipynb',\n",
       " '.colossus',\n",
       " 'Data',\n",
       " 'anaconda3',\n",
       " 'Downloads',\n",
       " '.python_history',\n",
       " 'tmp',\n",
       " '.gitconfig',\n",
       " '.bash_history',\n",
       " '.viminfo',\n",
       " '.zsh_sessions',\n",
       " '.astropy',\n",
       " '.conda']"
      ]
     },
     "execution_count": 3,
     "metadata": {},
     "output_type": "execute_result"
    }
   ],
   "source": [
    "os.listdir() #ls in unix, dir in windows"
   ]
  },
  {
   "cell_type": "code",
   "execution_count": 4,
   "id": "c464d7d5",
   "metadata": {},
   "outputs": [],
   "source": [
    "os.chdir('Desktop') #cd Desktop"
   ]
  },
  {
   "cell_type": "code",
   "execution_count": 5,
   "id": "86a88e0c",
   "metadata": {},
   "outputs": [
    {
     "data": {
      "text/plain": [
       "'/Users/ari/Desktop'"
      ]
     },
     "execution_count": 5,
     "metadata": {},
     "output_type": "execute_result"
    }
   ],
   "source": [
    "os.getcwd()"
   ]
  },
  {
   "cell_type": "code",
   "execution_count": 6,
   "id": "58f6690b",
   "metadata": {},
   "outputs": [
    {
     "data": {
      "text/plain": [
       "['me.jpg', '.DS_Store', '.localized', 'for_practice', 'new.jpg']"
      ]
     },
     "execution_count": 6,
     "metadata": {},
     "output_type": "execute_result"
    }
   ],
   "source": [
    "os.listdir()"
   ]
  },
  {
   "cell_type": "code",
   "execution_count": 7,
   "id": "cd058374",
   "metadata": {},
   "outputs": [],
   "source": [
    "os.mkdir('new_directory')"
   ]
  },
  {
   "cell_type": "code",
   "execution_count": 8,
   "id": "314f4c7d",
   "metadata": {},
   "outputs": [
    {
     "data": {
      "text/plain": [
       "['me.jpg',\n",
       " '.DS_Store',\n",
       " '.localized',\n",
       " 'for_practice',\n",
       " 'new_directory',\n",
       " 'new.jpg']"
      ]
     },
     "execution_count": 8,
     "metadata": {},
     "output_type": "execute_result"
    }
   ],
   "source": [
    "os.listdir()"
   ]
  },
  {
   "cell_type": "code",
   "execution_count": 9,
   "id": "a26de0d9",
   "metadata": {},
   "outputs": [],
   "source": [
    "os.rmdir('new_directory')"
   ]
  },
  {
   "cell_type": "code",
   "execution_count": 10,
   "id": "beb3884a",
   "metadata": {},
   "outputs": [
    {
     "data": {
      "text/plain": [
       "['me.jpg', '.DS_Store', '.localized', 'for_practice', 'new.jpg']"
      ]
     },
     "execution_count": 10,
     "metadata": {},
     "output_type": "execute_result"
    }
   ],
   "source": [
    "os.listdir()"
   ]
  },
  {
   "cell_type": "code",
   "execution_count": 11,
   "id": "22b45c9e",
   "metadata": {},
   "outputs": [],
   "source": [
    "os.chdir('/Users/ari')"
   ]
  },
  {
   "cell_type": "code",
   "execution_count": 12,
   "id": "c5c73fc1",
   "metadata": {},
   "outputs": [
    {
     "data": {
      "text/plain": [
       "['two.txt', 'Untitled.ipynb', 'README.md', '.git', 'newfile']"
      ]
     },
     "execution_count": 12,
     "metadata": {},
     "output_type": "execute_result"
    }
   ],
   "source": [
    "os.listdir('/Users/ari/Desktop/for_practice')"
   ]
  },
  {
   "cell_type": "code",
   "execution_count": 13,
   "id": "8490715f",
   "metadata": {},
   "outputs": [
    {
     "data": {
      "text/plain": [
       "False"
      ]
     },
     "execution_count": 13,
     "metadata": {},
     "output_type": "execute_result"
    }
   ],
   "source": [
    "os.path.isfile('/Users/ari/Desktop/for_practice')"
   ]
  },
  {
   "cell_type": "code",
   "execution_count": 14,
   "id": "d44be0d2",
   "metadata": {},
   "outputs": [
    {
     "data": {
      "text/plain": [
       "True"
      ]
     },
     "execution_count": 14,
     "metadata": {},
     "output_type": "execute_result"
    }
   ],
   "source": [
    "os.path.isfile('/Users/ari/Desktop/for_practice/two.txt')"
   ]
  },
  {
   "cell_type": "code",
   "execution_count": 15,
   "id": "816ac862",
   "metadata": {},
   "outputs": [
    {
     "data": {
      "text/plain": [
       "True"
      ]
     },
     "execution_count": 15,
     "metadata": {},
     "output_type": "execute_result"
    }
   ],
   "source": [
    "os.path.isdir('/Users/ari/Desktop/for_practice')"
   ]
  },
  {
   "cell_type": "code",
   "execution_count": null,
   "id": "8202c137",
   "metadata": {},
   "outputs": [],
   "source": []
  }
 ],
 "metadata": {
  "kernelspec": {
   "display_name": "Python 3",
   "language": "python",
   "name": "python3"
  },
  "language_info": {
   "codemirror_mode": {
    "name": "ipython",
    "version": 3
   },
   "file_extension": ".py",
   "mimetype": "text/x-python",
   "name": "python",
   "nbconvert_exporter": "python",
   "pygments_lexer": "ipython3",
   "version": "3.7.3"
  }
 },
 "nbformat": 4,
 "nbformat_minor": 5
}
