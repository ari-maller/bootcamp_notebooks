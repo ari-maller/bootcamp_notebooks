{
 "cells": [
  {
   "cell_type": "code",
   "execution_count": null,
   "id": "e2d825d9",
   "metadata": {},
   "outputs": [],
   "source": [
    "import os"
   ]
  },
  {
   "cell_type": "code",
   "execution_count": null,
   "id": "bdd6fec7",
   "metadata": {},
   "outputs": [],
   "source": [
    "os.getcwd() #pwd in unix, cd in windows"
   ]
  },
  {
   "cell_type": "code",
   "execution_count": null,
   "id": "166b2f03",
   "metadata": {},
   "outputs": [],
   "source": [
    "os.listdir() #ls in unix, dir in windows"
   ]
  },
  {
   "cell_type": "code",
   "execution_count": null,
   "id": "c464d7d5",
   "metadata": {},
   "outputs": [],
   "source": [
    "os.chdir('Desktop') #cd Desktop"
   ]
  },
  {
   "cell_type": "code",
   "execution_count": null,
   "id": "86a88e0c",
   "metadata": {},
   "outputs": [],
   "source": [
    "os.getcwd()"
   ]
  },
  {
   "cell_type": "code",
   "execution_count": null,
   "id": "58f6690b",
   "metadata": {},
   "outputs": [],
   "source": [
    "os.listdir()"
   ]
  },
  {
   "cell_type": "code",
   "execution_count": null,
   "id": "cd058374",
   "metadata": {},
   "outputs": [],
   "source": [
    "os.mkdir('new_directory')"
   ]
  },
  {
   "cell_type": "code",
   "execution_count": null,
   "id": "314f4c7d",
   "metadata": {},
   "outputs": [],
   "source": [
    "os.listdir()"
   ]
  },
  {
   "cell_type": "code",
   "execution_count": null,
   "id": "a26de0d9",
   "metadata": {},
   "outputs": [],
   "source": [
    "os.rmdir('new_directory')"
   ]
  },
  {
   "cell_type": "code",
   "execution_count": null,
   "id": "beb3884a",
   "metadata": {},
   "outputs": [],
   "source": [
    "os.listdir()"
   ]
  },
  {
   "cell_type": "code",
   "execution_count": null,
   "id": "22b45c9e",
   "metadata": {},
   "outputs": [],
   "source": [
    "os.chdir('/Users/ari')"
   ]
  },
  {
   "cell_type": "code",
   "execution_count": null,
   "id": "c5c73fc1",
   "metadata": {},
   "outputs": [],
   "source": [
    "os.listdir('/Users/ari/Desktop/for_practice')"
   ]
  },
  {
   "cell_type": "code",
   "execution_count": null,
   "id": "8490715f",
   "metadata": {},
   "outputs": [],
   "source": [
    "os.path.isfile('/Users/ari/Desktop/for_practice')"
   ]
  },
  {
   "cell_type": "code",
   "execution_count": null,
   "id": "d44be0d2",
   "metadata": {},
   "outputs": [],
   "source": [
    "os.path.isfile('/Users/ari/Desktop/for_practice/two.txt')"
   ]
  },
  {
   "cell_type": "code",
   "execution_count": null,
   "id": "816ac862",
   "metadata": {},
   "outputs": [],
   "source": [
    "os.path.isdir('/Users/ari/Desktop/for_practice')"
   ]
  },
  {
   "cell_type": "code",
   "execution_count": null,
   "id": "8202c137",
   "metadata": {},
   "outputs": [],
   "source": []
  }
 ],
 "metadata": {
  "kernelspec": {
   "display_name": "Python 3 (ipykernel)",
   "language": "python",
   "name": "python3"
  },
  "language_info": {
   "codemirror_mode": {
    "name": "ipython",
    "version": 3
   },
   "file_extension": ".py",
   "mimetype": "text/x-python",
   "name": "python",
   "nbconvert_exporter": "python",
   "pygments_lexer": "ipython3",
   "version": "3.10.6"
  }
 },
 "nbformat": 4,
 "nbformat_minor": 5
}
