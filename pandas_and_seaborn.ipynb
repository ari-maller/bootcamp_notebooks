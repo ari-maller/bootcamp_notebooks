{
 "cells": [
  {
   "cell_type": "code",
   "execution_count": null,
   "id": "5a9bf38c",
   "metadata": {},
   "outputs": [],
   "source": [
    "import numpy as np\n",
    "import pandas as pd\n"
   ]
  },
  {
   "cell_type": "code",
   "execution_count": null,
   "id": "f2fc9786",
   "metadata": {},
   "outputs": [],
   "source": [
    "#creating a data series, very similar to a 1D numpy array\n",
    "ds = pd.Series([1,3,5,7,9]) "
   ]
  },
  {
   "cell_type": "code",
   "execution_count": null,
   "id": "a5ebceb5",
   "metadata": {},
   "outputs": [],
   "source": [
    "#one way of creating a dataframe\n",
    "x=np.linspace(0,10,num=101)\n",
    "y=np.arange(0,10.1,step=0.1)\n",
    "print(x.size,y.size)\n",
    "df=pd.DataFrame({\"x\":x,\"y\":y})\n",
    "df"
   ]
  },
  {
   "cell_type": "code",
   "execution_count": null,
   "id": "47da7552",
   "metadata": {},
   "outputs": [],
   "source": [
    "import seaborn as sns\n",
    "df=sns.load_dataset('planets')\n",
    "#seaborn has a number of example data sets one can load"
   ]
  },
  {
   "cell_type": "code",
   "execution_count": null,
   "id": "052e7e54",
   "metadata": {},
   "outputs": [],
   "source": [
    "#first 5 lines of data frame\n",
    "df.head(5)"
   ]
  },
  {
   "cell_type": "code",
   "execution_count": null,
   "id": "d76da47e",
   "metadata": {},
   "outputs": [],
   "source": [
    "#last 5 lines of data frame\n",
    "df.tail(5)"
   ]
  },
  {
   "cell_type": "code",
   "execution_count": null,
   "id": "9fb2707f",
   "metadata": {},
   "outputs": [],
   "source": [
    "#get information about our dataframe\n",
    "print(df.columns.values)\n",
    "print(f\"shape = {df.shape}\") #fstring\n",
    "print(f\"size = {df.size}\\n\")  #fstring\n",
    "print(df.dtypes)"
   ]
  },
  {
   "cell_type": "code",
   "execution_count": null,
   "id": "92e20895",
   "metadata": {},
   "outputs": [],
   "source": [
    "df.describe()"
   ]
  },
  {
   "cell_type": "code",
   "execution_count": null,
   "id": "ab9283b7",
   "metadata": {},
   "outputs": [],
   "source": [
    "df.sort_values(by='mass')"
   ]
  },
  {
   "cell_type": "code",
   "execution_count": null,
   "id": "68bd7b66",
   "metadata": {},
   "outputs": [],
   "source": [
    "#slice like numpy arrays except you can slice on the column name\n",
    "print(df['method']) #slice on column\n",
    "print(df[0:3]) #slice on rows"
   ]
  },
  {
   "cell_type": "code",
   "execution_count": null,
   "id": "9722db5f",
   "metadata": {},
   "outputs": [],
   "source": [
    "print(df.iloc[3]) #you can't slice a single element like numpy. no df[3]"
   ]
  },
  {
   "cell_type": "code",
   "execution_count": null,
   "id": "610fd677",
   "metadata": {},
   "outputs": [],
   "source": [
    "print(df.iloc[0:3,3:5]) #can double slice with iloc"
   ]
  },
  {
   "cell_type": "code",
   "execution_count": null,
   "id": "1e6adbf5",
   "metadata": {},
   "outputs": [],
   "source": [
    "df.loc[df['method']=='Radial Velocity'] #note loc, not iloc"
   ]
  },
  {
   "cell_type": "code",
   "execution_count": null,
   "id": "2d96f699",
   "metadata": {},
   "outputs": [],
   "source": [
    "df=pd.read_csv('edr3_nearby_brightest.csv')\n",
    "df.head(3)\n",
    "print(df.columns.values)"
   ]
  },
  {
   "cell_type": "markdown",
   "id": "9aabb9cc",
   "metadata": {},
   "source": [
    "Now let's turn to plotting with seaborn"
   ]
  },
  {
   "cell_type": "code",
   "execution_count": null,
   "id": "f7d60502",
   "metadata": {},
   "outputs": [],
   "source": [
    "#seaborn divides plots into 3 types, relational, distribution,catagory\n",
    "#also plots are figure-like or axis like\n",
    "sns.relplot(data=df, x='distance', y='mass', hue='year', kind='scatter')"
   ]
  },
  {
   "cell_type": "code",
   "execution_count": null,
   "id": "ddcb0b9f",
   "metadata": {},
   "outputs": [],
   "source": [
    "#or axis-like\n",
    "sns.scatterplot(data=df, x='distance', y='mass',size='year')"
   ]
  },
  {
   "cell_type": "code",
   "execution_count": null,
   "id": "4da76d4c",
   "metadata": {},
   "outputs": [],
   "source": [
    "#seaborn is just running maatplotlib so easy to integrate\n",
    "import matplotlib.pyplot as plt\n",
    "fig,axs=plt.subplots(2,2)\n",
    "sns.histplot(data=df, x='mass',ax=axs[0][0])\n",
    "sns.kdeplot(data=df, x='distance',ax=axs[0][1])\n",
    "sns.ecdfplot(data=df, x='year',ax=axs[1][0])\n",
    "sns.rugplot(data=df, x='mass',ax=axs[1][1])"
   ]
  },
  {
   "cell_type": "code",
   "execution_count": null,
   "id": "a7dc6b9c",
   "metadata": {},
   "outputs": [],
   "source": []
  },
  {
   "cell_type": "code",
   "execution_count": null,
   "id": "593f97c8",
   "metadata": {},
   "outputs": [],
   "source": []
  }
 ],
 "metadata": {
  "kernelspec": {
   "display_name": "Python 3 (ipykernel)",
   "language": "python",
   "name": "python3"
  },
  "language_info": {
   "codemirror_mode": {
    "name": "ipython",
    "version": 3
   },
   "file_extension": ".py",
   "mimetype": "text/x-python",
   "name": "python",
   "nbconvert_exporter": "python",
   "pygments_lexer": "ipython3",
   "version": "3.7.3"
  }
 },
 "nbformat": 4,
 "nbformat_minor": 5
}
